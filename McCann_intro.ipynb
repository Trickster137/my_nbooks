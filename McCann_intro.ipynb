{
 "cells": [
  {
   "cell_type": "markdown",
   "id": "33451e7b-375a-41ab-9fd0-19a44982c1a1",
   "metadata": {},
   "source": [
    "# My first Jupyter notebook"
   ]
  },
  {
   "cell_type": "markdown",
   "id": "4d04283e-571a-472a-9c36-9951a0a2332a",
   "metadata": {},
   "source": [
    "## By Kelly McCann"
   ]
  },
  {
   "cell_type": "code",
   "execution_count": 8,
   "id": "f58c50ef-0a14-4bbd-a35c-15192edb0aa0",
   "metadata": {},
   "outputs": [],
   "source": [
    "import random;\n",
    "nums = [random.randint(30, 100) for x in range(40)]"
   ]
  },
  {
   "cell_type": "code",
   "execution_count": 9,
   "id": "f556b4b1-b6b7-4c8a-8672-29cbb02c6735",
   "metadata": {},
   "outputs": [
    {
     "name": "stdout",
     "output_type": "stream",
     "text": [
      "30 32 34 37 37 40 42 47 52 55 55 56 56 56 56 57 59 61 63 63 64 68 69 69 73 79 81 81 85 85 86 87 90 92 92 93 94 97 98 98 "
     ]
    }
   ],
   "source": [
    "nums.sort()\n",
    "for num in (nums): \n",
    "   print(num, end = ' ')"
   ]
  },
  {
   "cell_type": "markdown",
   "id": "adbf1820-d3a2-4bfe-92c4-09ab90323727",
   "metadata": {},
   "source": [
    "#### The Sample Mean\n",
    "- Add all the elements of the list up into a sum.\n",
    "- Divide by the number of elements."
   ]
  },
  {
   "cell_type": "markdown",
   "id": "f9abbe35-f73b-404a-9e21-915451581713",
   "metadata": {},
   "source": [
    "$\\overline{X} = \\frac{\\sum x^i}{n}$"
   ]
  },
  {
   "cell_type": "code",
   "execution_count": 10,
   "id": "4cdada82-519e-4196-8e5b-fbbdfa20e56e",
   "metadata": {},
   "outputs": [
    {
     "name": "stdout",
     "output_type": "stream",
     "text": [
      "66.72\n"
     ]
    }
   ],
   "source": [
    "total = 0\n",
    "for num in (nums):\n",
    "    total += num\n",
    "nums_mean = total/len(nums)\n",
    "print(f'{nums_mean:,.2f}')"
   ]
  },
  {
   "cell_type": "markdown",
   "id": "86ffb413-ebbf-4db7-9a61-148ad5b30687",
   "metadata": {},
   "source": [
    "## The Median \n",
    "[Median information](https://www.investopedia.com/terms/m/median.asp#:~:text=The%20median%20is%20the%20middle%20value%20in%20a%20set%20of,that%20position%20is%20the%20median \"Median\")"
   ]
  },
  {
   "cell_type": "code",
   "execution_count": 11,
   "id": "0fe4924b-16ea-44ca-b71d-25fe8457224d",
   "metadata": {},
   "outputs": [
    {
     "name": "stdout",
     "output_type": "stream",
     "text": [
      "63.5\n"
     ]
    }
   ],
   "source": [
    "'''There are a couple different ways to calculate the median of an even set\n",
    "of numbers. One can either add up all the numbers around the middle two \n",
    "numbers and then average the result, as Investopedia suggests, which\n",
    "can provide inaccurate results, or one can find the middle two numbers, add\n",
    "them together and then average the result.\n",
    "Let's take my random set for example. I know from COP1000 that the indices\n",
    "of a set of numbers start at 0. So right away I know that the indices I want\n",
    "are 19 and 20. So I make myself a formula for the median, print it with \n",
    "f-strings and check the math just in case. If I'm right, the result should\n",
    "be between nums index 19 and nums index 20.'''\n",
    "median = (nums[19] + nums[20]) / 2\n",
    "print(f'{median:,.1f}')"
   ]
  },
  {
   "cell_type": "code",
   "execution_count": null,
   "id": "261f54e0-1c7c-4335-ae09-7debe90d22e8",
   "metadata": {},
   "outputs": [],
   "source": []
  }
 ],
 "metadata": {
  "kernelspec": {
   "display_name": "Python 3 (ipykernel)",
   "language": "python",
   "name": "python3"
  },
  "language_info": {
   "codemirror_mode": {
    "name": "ipython",
    "version": 3
   },
   "file_extension": ".py",
   "mimetype": "text/x-python",
   "name": "python",
   "nbconvert_exporter": "python",
   "pygments_lexer": "ipython3",
   "version": "3.11.7"
  }
 },
 "nbformat": 4,
 "nbformat_minor": 5
}
